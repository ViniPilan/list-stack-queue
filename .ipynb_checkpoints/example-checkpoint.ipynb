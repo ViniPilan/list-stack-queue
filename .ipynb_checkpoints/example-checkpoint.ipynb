{
 "cells": [
  {
   "cell_type": "code",
   "execution_count": 1,
   "id": "30571b1c",
   "metadata": {},
   "outputs": [],
   "source": [
    "from ed_implementation import *"
   ]
  },
  {
   "cell_type": "markdown",
   "id": "18289700",
   "metadata": {},
   "source": [
    "### List example\n",
    "\n",
    "The list functions avaible are:\n",
    "- find\n",
    "- insert_begin\n",
    "- insert_final\n",
    "- pop\n",
    "- remove\n",
    "- remove_all\n",
    "- size\n",
    "- visualize"
   ]
  },
  {
   "cell_type": "code",
   "execution_count": 4,
   "id": "ba91e82b",
   "metadata": {},
   "outputs": [
    {
     "name": "stdout",
     "output_type": "stream",
     "text": [
      "\n",
      "\n",
      "List elements:\n",
      "ee\n",
      "db\n",
      "bc\n",
      "ab\n",
      "1\n",
      "3\n",
      "4\n",
      "5\n"
     ]
    }
   ],
   "source": [
    "list_example = List()\n",
    "\n",
    "for element in ['ab', 'bc', 'db', 'ee']:\n",
    "    list_example.insert_begin(element)\n",
    "    \n",
    "    \n",
    "for element in [1, 3, 4, 5]:\n",
    "    list_example.insert_final(element)\n",
    "    \n",
    "print('\\n\\nList elements:')\n",
    "list_example.visualize()"
   ]
  },
  {
   "cell_type": "code",
   "execution_count": 3,
   "id": "7e5137b0",
   "metadata": {
    "scrolled": true
   },
   "outputs": [
    {
     "name": "stdout",
     "output_type": "stream",
     "text": [
      "Poped item:  bc\n",
      "\n",
      "ee: \n",
      "The element was removed!\n",
      "\n",
      "\n",
      "List elements:\n",
      "db\n",
      "ab\n",
      "1\n",
      "3\n",
      "4\n",
      "5\n",
      "\n",
      "Size:  6\n"
     ]
    }
   ],
   "source": [
    "print('Poped item: ', list_example.pop(2))\n",
    "\n",
    "print('\\nee: ')\n",
    "list_example.remove('ee')\n",
    "\n",
    "print('\\n\\nList elements:')\n",
    "list_example.visualize()\n",
    "\n",
    "print('\\nSize: ', list_example.size())"
   ]
  },
  {
   "cell_type": "markdown",
   "id": "c5c007f3",
   "metadata": {},
   "source": [
    "### Stack example\n",
    "\n",
    "The stack functions avaible are:\n",
    "- push\n",
    "- pop\n",
    "- size"
   ]
  },
  {
   "cell_type": "code",
   "execution_count": 5,
   "id": "47dc17dc",
   "metadata": {
    "scrolled": true
   },
   "outputs": [
    {
     "name": "stdout",
     "output_type": "stream",
     "text": [
      "0:  ee\n",
      "1:  db\n",
      "2:  bc\n",
      "3:  ab\n"
     ]
    }
   ],
   "source": [
    "stack_example = Stack()\n",
    "\n",
    "for element in ['ab', 'bc', 'db', 'ee']:\n",
    "    stack_example.push(element)\n",
    "    \n",
    "for i in range(0, stack_example.size()):\n",
    "    print(f'{i}: ', stack_example.pop())"
   ]
  },
  {
   "cell_type": "markdown",
   "id": "9976a40d",
   "metadata": {},
   "source": [
    "### Queue example\n",
    "\n",
    "The queue functions avaible are:\n",
    "- push\n",
    "- pop\n",
    "- size"
   ]
  },
  {
   "cell_type": "code",
   "execution_count": 6,
   "id": "701ca629",
   "metadata": {
    "scrolled": false
   },
   "outputs": [
    {
     "name": "stdout",
     "output_type": "stream",
     "text": [
      "0:  ab\n",
      "1:  bc\n",
      "2:  db\n",
      "3:  ee\n"
     ]
    }
   ],
   "source": [
    "queue_example = Queue()\n",
    "\n",
    "for element in ['ab', 'bc', 'db', 'ee']:\n",
    "    queue_example.push(element)\n",
    "    \n",
    "for i in range(0, queue_example.size()):\n",
    "    print(f'{i}: ', queue_example.pop())"
   ]
  },
  {
   "cell_type": "markdown",
   "id": "17f33bf7",
   "metadata": {},
   "source": [
    "### About the autor\n",
    "\n",
    "My name is Vinícius Pilan and i'm a computer cience studant at UNESP, a university of São Paulo State, Brazil. Thank's for your view!\n",
    "\n",
    "If you want, more informations about me can be accessed in:\n",
    "- https://sites.google.com/view/vinicius-pilan/"
   ]
  },
  {
   "cell_type": "code",
   "execution_count": null,
   "id": "f0492d5a",
   "metadata": {},
   "outputs": [],
   "source": []
  }
 ],
 "metadata": {
  "kernelspec": {
   "display_name": "Python 3 (ipykernel)",
   "language": "python",
   "name": "python3"
  },
  "language_info": {
   "codemirror_mode": {
    "name": "ipython",
    "version": 3
   },
   "file_extension": ".py",
   "mimetype": "text/x-python",
   "name": "python",
   "nbconvert_exporter": "python",
   "pygments_lexer": "ipython3",
   "version": "3.9.12"
  }
 },
 "nbformat": 4,
 "nbformat_minor": 5
}
