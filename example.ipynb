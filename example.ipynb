{
 "cells": [
  {
   "cell_type": "code",
   "execution_count": 1,
   "id": "30571b1c",
   "metadata": {},
   "outputs": [],
   "source": [
    "from ed_implementation import *"
   ]
  },
  {
   "cell_type": "markdown",
   "id": "18289700",
   "metadata": {},
   "source": [
    "### List example"
   ]
  },
  {
   "cell_type": "code",
   "execution_count": 2,
   "id": "ba91e82b",
   "metadata": {},
   "outputs": [
    {
     "name": "stdout",
     "output_type": "stream",
     "text": [
      "\n",
      "\n",
      "List elements:\n",
      "ee\n",
      "db\n",
      "bc\n",
      "ab\n",
      "1\n",
      "3\n",
      "4\n",
      "5\n"
     ]
    }
   ],
   "source": [
    "lista = List()\n",
    "\n",
    "for element in ['ab', 'bc', 'db', 'ee']:\n",
    "    lista.insert_begin(element)\n",
    "    \n",
    "    \n",
    "for element in [1, 3, 4, 5]:\n",
    "    lista.insert_final(element)\n",
    "    \n",
    "print('\\n\\nList elements:')\n",
    "lista.visualize()"
   ]
  },
  {
   "cell_type": "code",
   "execution_count": 3,
   "id": "7e5137b0",
   "metadata": {
    "scrolled": true
   },
   "outputs": [
    {
     "name": "stdout",
     "output_type": "stream",
     "text": [
      "Poped item:  bc\n",
      "\n",
      "ee: \n",
      "The element was removed!\n",
      "\n",
      "\n",
      "List elements:\n",
      "db\n",
      "ab\n",
      "1\n",
      "3\n",
      "4\n",
      "5\n",
      "\n",
      "Size:  6\n"
     ]
    }
   ],
   "source": [
    "print('Poped item: ', lista.pop(2))\n",
    "\n",
    "print('\\nee: ')\n",
    "lista.remove('ee')\n",
    "\n",
    "print('\\n\\nList elements:')\n",
    "lista.visualize()\n",
    "\n",
    "print('\\nSize: ', lista.size())"
   ]
  },
  {
   "cell_type": "markdown",
   "id": "c5c007f3",
   "metadata": {},
   "source": [
    "### Stack example"
   ]
  },
  {
   "cell_type": "code",
   "execution_count": 4,
   "id": "47dc17dc",
   "metadata": {
    "scrolled": true
   },
   "outputs": [
    {
     "name": "stdout",
     "output_type": "stream",
     "text": [
      "0:  ee\n",
      "1:  db\n",
      "2:  bc\n",
      "3:  ab\n"
     ]
    }
   ],
   "source": [
    "pilha = Stack()\n",
    "\n",
    "for element in ['ab', 'bc', 'db', 'ee']:\n",
    "    pilha.push(element)\n",
    "    \n",
    "for i in range(0, pilha.size()):\n",
    "    print(f'{i}: ', pilha.pop())"
   ]
  },
  {
   "cell_type": "markdown",
   "id": "9976a40d",
   "metadata": {},
   "source": [
    "### Queue example"
   ]
  },
  {
   "cell_type": "code",
   "execution_count": 5,
   "id": "701ca629",
   "metadata": {
    "scrolled": true
   },
   "outputs": [
    {
     "name": "stdout",
     "output_type": "stream",
     "text": [
      "0:  ab\n",
      "1:  bc\n",
      "2:  db\n",
      "3:  ee\n"
     ]
    }
   ],
   "source": [
    "fila = Queue()\n",
    "\n",
    "for element in ['ab', 'bc', 'db', 'ee']:\n",
    "    fila.push(element)\n",
    "    \n",
    "for i in range(0, fila.size()):\n",
    "    print(f'{i}: ', fila.pop())"
   ]
  }
 ],
 "metadata": {
  "kernelspec": {
   "display_name": "Python 3 (ipykernel)",
   "language": "python",
   "name": "python3"
  },
  "language_info": {
   "codemirror_mode": {
    "name": "ipython",
    "version": 3
   },
   "file_extension": ".py",
   "mimetype": "text/x-python",
   "name": "python",
   "nbconvert_exporter": "python",
   "pygments_lexer": "ipython3",
   "version": "3.9.12"
  }
 },
 "nbformat": 4,
 "nbformat_minor": 5
}
